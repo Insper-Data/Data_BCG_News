{
 "cells": [
  {
   "cell_type": "code",
   "execution_count": 1,
   "metadata": {},
   "outputs": [],
   "source": [
    "from model import *"
   ]
  },
  {
   "cell_type": "code",
   "execution_count": null,
   "metadata": {},
   "outputs": [],
   "source": [
    "%%time\n",
    "path_treino = f'C:/Users/wilgn/OneDrive - Insper - Institudo de Ensino e Pesquisa/Data_BCG_News/Variables/{run_id_train}.parquet'\n",
    "path_teste = f'C:/Users/wilgn/OneDrive - Insper - Institudo de Ensino e Pesquisa/Data_BCG_News/Variables/{run_id_teste}.parquet'\n",
    "\n",
    "teste = Zeus(user='Wilgner',path_treino=path_treino, path_teste=path_teste, run_id_train='var_tfidf_10_2021-03-15_0', run_id_teste='var_tfidf_90_2021-03-15_0', process_type='tf-df')\n",
    "print(teste.df.shape)\n",
    "teste.cria_data_sintetica(n_amostras_sinteticas=7,percent_df=0.25, criar_base_randomica=True, random_state=101)\n",
    "teste.train_lightGBM()"
   ]
  },
  {
   "cell_type": "code",
   "execution_count": null,
   "metadata": {
    "scrolled": false
   },
   "outputs": [],
   "source": [
    "%%time\n",
    "teste.make_similarity_matrix_network(percent_sample=0.10)\n",
    "teste.run_louvain_community_detection()\n",
    "teste.desenha_cluster_no_edges()\n",
    "# teste.desenha_cluster_with_edges()"
   ]
  },
  {
   "cell_type": "code",
   "execution_count": null,
   "metadata": {},
   "outputs": [],
   "source": [
    "teste.classifica_agrupamento()\n"
   ]
  },
  {
   "cell_type": "code",
   "execution_count": null,
   "metadata": {
    "scrolled": false
   },
   "outputs": [],
   "source": [
    "teste.plota_palavras_maiores(numero=10)"
   ]
  },
  {
   "cell_type": "code",
   "execution_count": null,
   "metadata": {},
   "outputs": [],
   "source": []
  },
  {
   "cell_type": "code",
   "execution_count": null,
   "metadata": {},
   "outputs": [],
   "source": []
  }
 ],
 "metadata": {
  "kernelspec": {
   "display_name": "Python 3",
   "language": "python",
   "name": "python3"
  },
  "language_info": {
   "codemirror_mode": {
    "name": "ipython",
    "version": 3
   },
   "file_extension": ".py",
   "mimetype": "text/x-python",
   "name": "python",
   "nbconvert_exporter": "python",
   "pygments_lexer": "ipython3",
   "version": "3.7.9"
  }
 },
 "nbformat": 4,
 "nbformat_minor": 4
}
